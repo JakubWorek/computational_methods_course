{
 "cells": [
  {
   "cell_type": "markdown",
   "metadata": {},
   "source": [
    "# Sudoku\n",
    "Napisz program poszukujący rozwiązania łamigłówki Sudoku za pomocą symulowanego  \n",
    "wyżarzania. Plansza 9 ×9 ma zostać wczytana z pliku tekstowego, w którym pola puste  \n",
    "zaznaczone są znakiem x. Jako funkcję kosztu przyjmij sumę powtórzeń cyfr występu-  \n",
    "jących w wierszach bloku 9 ×9, kolumnach bloku 9 ×9 oraz blokach 3 ×3. Zaproponuj  \n",
    "metodę generacji stanu sąsiedniego. Przedstaw zależność liczby iteracji algorytmu od  \n",
    "liczby pustych miejsc na planszy. Czy Twój program jest w stanie znaleźć poprawne  \n",
    "rozwiązanie dla każdej z testowanych konfiguracji wejściowych?  "
   ]
  },
  {
   "cell_type": "code",
   "execution_count": 2,
   "metadata": {},
   "outputs": [],
   "source": [
    "import matplotlib.pyplot as plt\n",
    "import random\n",
    "import math\n",
    "from copy import deepcopy"
   ]
  },
  {
   "cell_type": "markdown",
   "metadata": {},
   "source": [
    "Wczytywanie sudoku z pliku"
   ]
  },
  {
   "cell_type": "code",
   "execution_count": 3,
   "metadata": {},
   "outputs": [],
   "source": [
    "def read_from_file(filename):\n",
    "    with open(filename) as file:\n",
    "        sudoku = file.read()\n",
    "    sudoku = sudoku.splitlines()\n",
    "    sudoku = list(map(lambda x : list(x), sudoku))\n",
    "    return sudoku"
   ]
  },
  {
   "cell_type": "markdown",
   "metadata": {},
   "source": [
    "Funkcje kosztu "
   ]
  },
  {
   "cell_type": "code",
   "execution_count": 4,
   "metadata": {},
   "outputs": [],
   "source": [
    "def find_square(x, y):\n",
    "    row = x // 3\n",
    "    col = y // 3\n",
    "\n",
    "    return [(i + row*3,j + col*3) for i in range(3) for j in range(3)]\n",
    "\n",
    "def cost(checked_field, sudoku):\n",
    "    cost = 0\n",
    "    for field in find_square(*checked_field):\n",
    "        if (sudoku[checked_field[0]][checked_field[1]] == sudoku[field[0]][field[1]]) and (field != checked_field):\n",
    "            cost += 1\n",
    "    for col_num in range(9):\n",
    "        if (sudoku[checked_field[0]][checked_field[1]] == sudoku[checked_field[0]][col_num]) and (col_num != checked_field[1]):\n",
    "            cost += 1\n",
    "    return cost\n",
    "\n",
    "def cost_all(sudoku):\n",
    "    final_cost = 0\n",
    "    for x in range(len(sudoku)):\n",
    "        for y in range(len(sudoku[0])):\n",
    "            final_cost += cost((x,y), sudoku)\n",
    "    return final_cost"
   ]
  },
  {
   "cell_type": "markdown",
   "metadata": {},
   "source": [
    "Funkcja prawdopodobieństwa"
   ]
  },
  {
   "cell_type": "code",
   "execution_count": 5,
   "metadata": {},
   "outputs": [],
   "source": [
    "def acceptance_probability(old_cost, new_cost, T):\n",
    "    if new_cost < old_cost:\n",
    "        return 1.0\n",
    "    else:\n",
    "        return math.exp(-abs(new_cost - old_cost) / T)"
   ]
  },
  {
   "cell_type": "markdown",
   "metadata": {},
   "source": [
    "Generowanie przykładowego rozwiązania"
   ]
  },
  {
   "cell_type": "code",
   "execution_count": 6,
   "metadata": {},
   "outputs": [],
   "source": [
    "def generate_random_solution(sudoku):\n",
    "    for col_num in range(9):\n",
    "        col = [i for i in range(1,10)]\n",
    "        for row_num in range(9):\n",
    "            if sudoku[row_num][col_num] != 'x':\n",
    "                tmp = col[row_num]\n",
    "                index = col.index(int(sudoku[row_num][col_num]))\n",
    "                col[row_num] = sudoku[row_num][col_num]\n",
    "                col[index] = tmp\n",
    "        for row_num in range(9):\n",
    "            sudoku[row_num][col_num] = int(col[row_num])"
   ]
  },
  {
   "cell_type": "markdown",
   "metadata": {},
   "source": [
    "Funkcja zmiany elementów"
   ]
  },
  {
   "cell_type": "code",
   "execution_count": 7,
   "metadata": {},
   "outputs": [],
   "source": [
    "def random_change(sudoku, base_sudoku):\n",
    "    possible_choices = []\n",
    "    while(len(possible_choices) < 2):\n",
    "        col_num = random.randint(0,8)\n",
    "        possible_choices = [i for i in range(9) if base_sudoku[i][col_num] == 'x']\n",
    "    i,j = random.sample(possible_choices, 2)\n",
    "    sudoku[i][col_num], sudoku[j][col_num] = sudoku[j][col_num], sudoku[i][col_num]\n",
    "    return (i, col_num), (j, col_num)"
   ]
  },
  {
   "cell_type": "markdown",
   "metadata": {},
   "source": [
    "## Symulowane wyżarzanie"
   ]
  },
  {
   "cell_type": "code",
   "execution_count": 8,
   "metadata": {},
   "outputs": [],
   "source": [
    "def sim_anneal(base_sudoku, cooling_rate=0.999, T=1000, min_temp=1e-4):\n",
    "    points = deepcopy(base_sudoku)\n",
    "    generate_random_solution(points)\n",
    "    \n",
    "    candidate = deepcopy(points)\n",
    "    best_res = deepcopy(points)\n",
    "    curr_cost = cost_all(points)\n",
    "    best_cost = curr_cost\n",
    "    costs = [curr_cost]\n",
    "    \n",
    "    count = 0\n",
    "    iteration = 0\n",
    "    while T > min_temp and count < 2000:\n",
    "        point_a, point_b = random_change(candidate, base_sudoku)\n",
    "        iteration += 1\n",
    "\n",
    "        T = T * cooling_rate\n",
    "        new_cost = cost_all(candidate)\n",
    "        if acceptance_probability(curr_cost, new_cost, T) > random.random():\n",
    "            if new_cost != curr_cost:\n",
    "                count = 0\n",
    "            points[point_a[0]][point_a[1]], points[point_b[0]][point_b[1]] = points[point_b[0]][point_b[1]], points[point_a[0]][point_a[1]]\n",
    "            curr_cost = cost_all(points)\n",
    "            if(curr_cost < best_cost):\n",
    "                best_res = deepcopy(points)\n",
    "                best_cost = curr_cost\n",
    "        else:\n",
    "            count += 1\n",
    "            candidate[point_a[0]][point_a[1]], candidate[point_b[0]][point_b[1]] = candidate[point_b[0]][point_b[1]], candidate[point_a[0]][point_a[1]]\n",
    "        costs.append(curr_cost)\n",
    "    return (best_res, costs, iteration)"
   ]
  },
  {
   "cell_type": "markdown",
   "metadata": {},
   "source": [
    "Generowanie wykresów"
   ]
  },
  {
   "cell_type": "code",
   "execution_count": 9,
   "metadata": {},
   "outputs": [],
   "source": [
    "def print_sudoku(sudoku):\n",
    "    for x in range(len(sudoku)):\n",
    "        if x % 3 == 0 and x !=0:\n",
    "            print(\" ---------------------\")\n",
    "        for y in range(len(sudoku[0])):\n",
    "            if y % 3 == 0 and y != 0:\n",
    "                print(\" |\", end='')\n",
    "            print(\" \" + str(sudoku[x][y]), end='')\n",
    "        print(\"\\n\", end='')\n",
    "\n",
    "def plot_costs(costs):\n",
    "    plt.plot(costs)\n",
    "    plt.show()"
   ]
  },
  {
   "cell_type": "markdown",
   "metadata": {},
   "source": [
    "## Testy\n",
    "W plikach testowych znajdują się sudoku o zróżnicowanym stopniu uzupełnienia (od 50 do 60 pustych miejsc)"
   ]
  },
  {
   "cell_type": "code",
   "execution_count": 20,
   "metadata": {},
   "outputs": [],
   "source": [
    "def test_solution(sudoku):\n",
    "    mistakes = 0\n",
    "    for x in range(9):\n",
    "        mistakes += (9 - len(set(sudoku[x])))\n",
    "    for x in [0,3,6]:\n",
    "        for y in [0,3,6]:\n",
    "            mistakes += 9 - len(set([sudoku[i[0]][i[1]] for i in find_square(x,y)]))\n",
    "    return mistakes\n",
    "\n",
    "def sudoku_check(sudoku):\n",
    "    #edge cases\n",
    "    if not sudoku:\n",
    "        return False\n",
    "    \n",
    "    #rows by rows checking \n",
    "    hset = set()\n",
    "    for i in range(9):\n",
    "        for j in range(9):\n",
    "            if sudoku[i][j] in hset:\n",
    "                return False\n",
    "            else:\n",
    "                hset.add(sudoku[i][j])\n",
    "        hset = set()\n",
    "            \n",
    "    #cols by cols checking\n",
    "    hset = set()\n",
    "    for i in range(9):\n",
    "        for j in range(9):\n",
    "            if sudoku[j][i] in hset:\n",
    "                return False\n",
    "            else:\n",
    "                hset.add(sudoku[j][i])\n",
    "        hset = set()\n",
    "    \n",
    "    \n",
    "    #3 by 3 check\n",
    "    subs = [range(0,3), range(3,6), range(6,9)]\n",
    "    subsudokus = [] \n",
    "    for x in subs:\n",
    "        for y in subs:\n",
    "            subsudokus.append([x,y])\n",
    "    for (row_range, column_range) in subsudokus:\n",
    "        hset = set()\n",
    "        for i in row_range:\n",
    "            for j in column_range:              \n",
    "                if sudoku[i][j] in hset:\n",
    "                    return False\n",
    "                else:\n",
    "                    hset.add(sudoku[i][j])\n",
    "    \n",
    "    return True"
   ]
  },
  {
   "cell_type": "markdown",
   "metadata": {},
   "source": [
    "Przykładowy test"
   ]
  },
  {
   "cell_type": "code",
   "execution_count": 21,
   "metadata": {},
   "outputs": [
    {
     "name": "stdout",
     "output_type": "stream",
     "text": [
      "Initial sudoku: \n",
      " x 9 6 | x 4 x | x x 1\n",
      " 1 x x | x 6 x | x x 4\n",
      " 5 x 4 | 8 1 x | 3 9 x\n",
      " ---------------------\n",
      " x x 7 | 9 5 x | x 4 3\n",
      " x 3 x | x 8 x | x x x\n",
      " 4 x 5 | x 2 3 | x 1 8\n",
      " ---------------------\n",
      " x 1 x | 6 3 x | x 5 9\n",
      " x 5 9 | x 7 x | 8 3 x\n",
      " x x 3 | 5 9 x | x x 7\n",
      "Plot of costs: \n"
     ]
    },
    {
     "data": {
      "image/png": "[encoded data removed]",
      "text/plain": [
       "<Figure size 640x480 with 1 Axes>"
      ]
     },
     "metadata": {},
     "output_type": "display_data"
    },
    {
     "name": "stdout",
     "output_type": "stream",
     "text": [
      "Final sudoku: \n",
      " 3 9 6 | 2 4 5 | 2 8 1\n",
      " 1 2 8 | 3 6 9 | 5 7 4\n",
      " 5 7 4 | 8 1 7 | 3 9 6\n",
      " ---------------------\n",
      " 2 8 7 | 9 5 1 | 6 4 3\n",
      " 9 3 1 | 4 8 6 | 7 2 5\n",
      " 4 6 5 | 7 2 3 | 9 1 8\n",
      " ---------------------\n",
      " 7 1 2 | 6 3 8 | 4 5 9\n",
      " 6 5 9 | 1 7 4 | 8 3 2\n",
      " 8 4 3 | 5 9 2 | 1 6 7\n",
      "Is the solution correct: \n",
      "False\n",
      "How many mistakes: \n",
      "2\n"
     ]
    }
   ],
   "source": [
    "sudoku = read_from_file(\"sudoku/0\")\n",
    "print(\"Initial sudoku: \")\n",
    "print_sudoku(sudoku)\n",
    "solution, costs, iterations = sim_anneal(sudoku)\n",
    "print(\"Plot of costs: \")\n",
    "plot_costs(costs)\n",
    "print(\"Final sudoku: \")\n",
    "print_sudoku(solution)\n",
    "print(\"Is the solution correct: \")\n",
    "print(sudoku_check(solution))\n",
    "print(\"How many mistakes: \")\n",
    "print(test_solution(solution))"
   ]
  },
  {
   "cell_type": "markdown",
   "metadata": {},
   "source": [
    "Testy wielu przykładów"
   ]
  },
  {
   "cell_type": "code",
   "execution_count": 22,
   "metadata": {},
   "outputs": [
    {
     "name": "stdout",
     "output_type": "stream",
     "text": [
      "Iterations: \n",
      "[9547, 9106, 9066, 9792, 9150, 9514, 9240, 9432, 9161, 9287, 9105, 10054, 9321, 10248, 9461, 8996, 9461, 9870, 9152, 9013, 9878, 11370, 10975, 10903, 9572, 10378, 10183, 10232, 9543, 9763, 9428, 10028, 11395, 9871, 9986, 9670, 9765, 9850, 10157, 9821]\n",
      "Average number of iterations: \n",
      "9768.6\n",
      "Mistakes: \n",
      "[2, 0, 0, 0, 0, 4, 4, 0, 2, 0, 0, 4, 0, 0, 3, 0, 0, 4, 4, 0, 4, 2, 6, 6, 4, 0, 8, 4, 4, 7, 11, 2, 5, 4, 2, 5, 7, 2, 4, 5]\n",
      "Average number of mistakes: \n",
      "2.975\n"
     ]
    }
   ],
   "source": [
    "how_many = 40\n",
    "iterations = []\n",
    "mistakes = []\n",
    "\n",
    "for sudoku_num in range(how_many):\n",
    "    sudoku = read_from_file(\"sudoku/\" + str(sudoku_num))\n",
    "    solution, costs, iteration = sim_anneal(sudoku)\n",
    "    iterations.append(iteration)\n",
    "    mistakes.append(test_solution(solution))\n",
    "\n",
    "print(\"Iterations: \")\n",
    "print(iterations)\n",
    "print(\"Average number of iterations: \")\n",
    "print(sum(iterations)/how_many)\n",
    "print(\"Mistakes: \")\n",
    "print(mistakes)\n",
    "print(\"Average number of mistakes: \")\n",
    "print(sum(mistakes)/how_many)"
   ]
  },
  {
   "cell_type": "markdown",
   "metadata": {},
   "source": [
    "## Podsumowanie\n",
    "Rozwiązywanie sudoku przy pomocy wyżarzania daje lepsze wyniki, gdy liczba pól do uzupełnienia jest mała.  \n",
    "Wraz z jej wzrostem liczba błędów popełnianych przez algorytm rośnie."
   ]
  }
 ],
 "metadata": {
  "kernelspec": {
   "display_name": "Python 3",
   "language": "python",
   "name": "python3"
  },
  "language_info": {
   "codemirror_mode": {
    "name": "ipython",
    "version": 3
   },
   "file_extension": ".py",
   "mimetype": "text/x-python",
   "name": "python",
   "nbconvert_exporter": "python",
   "pygments_lexer": "ipython3",
   "version": "3.11.5"
  }
 },
 "nbformat": 4,
 "nbformat_minor": 2
}
