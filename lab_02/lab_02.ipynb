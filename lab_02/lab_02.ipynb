{
 "cells": [
  {
   "cell_type": "markdown",
   "metadata": {},
   "source": [
    "# Jakub Worek\n",
    "# MOwNiT 2023/24 - laboratorium 2 - sprawozdanie"
   ]
  },
  {
   "cell_type": "markdown",
   "metadata": {},
   "source": [
    "## Zadanie 1 - Metoda Gaussa - Jordana\n",
    "Napisz i sprawdź funkcję rozwiązującą układ równań liniowych n ×n metodą Gaussa-  \n",
    "Jordana z częściowym poszukiwaniem elementu wiodącego. Dla dziesięciu różnych roz-  \n",
    "miarów macierzy współczynników większych niż 500 × 500 porównaj czasy działania  \n",
    "zaimplementowanej funkcji z czasami uzyskanymi dla wybranych funkcji bibliotecznych."
   ]
  },
  {
   "cell_type": "code",
   "execution_count": 1,
   "metadata": {},
   "outputs": [],
   "source": [
    "def gauss_jordan_elimination_with_partial_pivoting(matrix, vector):\n",
    "    n = len(matrix)\n",
    "    for i in range(n):\n",
    "        max_index = i\n",
    "        for j in range(i + 1, n):\n",
    "            if abs(matrix[j, i]) > abs(matrix[max_index, i]):\n",
    "                max_index = j\n",
    "        matrix[[i, max_index]] = matrix[[max_index, i]]\n",
    "        vector[[i, max_index]] = vector[[max_index, i]]\n",
    "        for j in range(i + 1, n):\n",
    "            ratio = matrix[j, i] / matrix[i, i]\n",
    "            matrix[j] -= ratio * matrix[i]\n",
    "            vector[j] -= ratio * vector[i]\n",
    "    for i in range(n - 1, -1, -1):\n",
    "        for j in range(i + 1, n):\n",
    "            vector[i] -= matrix[i, j] * vector[j]\n",
    "        vector[i] /= matrix[i, i]\n",
    "    return vector"
   ]
  },
  {
   "cell_type": "code",
   "execution_count": 2,
   "metadata": {},
   "outputs": [],
   "source": [
    "import numpy as np\n",
    "import time\n",
    "from copy import deepcopy"
   ]
  },
  {
   "cell_type": "code",
   "execution_count": 3,
   "metadata": {},
   "outputs": [
    {
     "name": "stdout",
     "output_type": "stream",
     "text": [
      "My function, Array size: 69, num runs: 1, time: 0.01 s\n",
      "Numpy function, Array size: 69, num runs: 1, time: 0.05 s\n",
      "Results are the same\n",
      " \n",
      "My function, Array size: 420, num runs: 1, time: 0.32 s\n",
      "Numpy function, Array size: 420, num runs: 1, time: 0.03 s\n",
      "Results are the same\n",
      " \n",
      "My function, Array size: 500, num runs: 1, time: 0.44 s\n",
      "Numpy function, Array size: 500, num runs: 1, time: 0.02 s\n",
      "Results are the same\n",
      " \n",
      "My function, Array size: 600, num runs: 1, time: 0.70 s\n",
      "Numpy function, Array size: 600, num runs: 1, time: 0.02 s\n",
      "Results are the same\n",
      " \n",
      "My function, Array size: 666, num runs: 1, time: 0.95 s\n",
      "Numpy function, Array size: 666, num runs: 1, time: 0.02 s\n",
      "Results are the same\n",
      " \n",
      "My function, Array size: 2137, num runs: 1, time: 12.71 s\n",
      "Numpy function, Array size: 2137, num runs: 1, time: 0.12 s\n",
      "Results are the same\n",
      " \n"
     ]
    }
   ],
   "source": [
    "test_spec = [(69,1), (420,1), (500, 1), (600, 1), (666, 1), (2137,1)]\n",
    "\n",
    "def test_performance():\n",
    "    for (array_size, num_runs) in test_spec:\n",
    "        matrix = np.random.rand(array_size, array_size)\n",
    "        vector = np.random.rand(array_size)\n",
    "        for _ in range(num_runs):\n",
    "            M_copy = deepcopy(matrix)\n",
    "            V_copy = deepcopy(vector)\n",
    "            start = time.time()\n",
    "            v1 = gauss_jordan_elimination_with_partial_pivoting(M_copy, V_copy)\n",
    "            end = time.time()\n",
    "            print(\"My function, Array size: %d, num runs: %d, time: %.2f s\" % (array_size, num_runs, end - start))\n",
    "            M_copy = deepcopy(matrix)\n",
    "            V_copy = deepcopy(vector)\n",
    "            start = time.time()\n",
    "            v2 = np.linalg.solve(M_copy, V_copy)\n",
    "            end = time.time()\n",
    "            print(\"Numpy function, Array size: %d, num runs: %d, time: %.2f s\" % (array_size, num_runs, end - start))\n",
    "            if np.allclose(v1, v2): print(\"Results are the same\")\n",
    "            else: print(\"Results are different\")\n",
    "            print(\" \")\n",
    "\n",
    "test_performance()"
   ]
  },
  {
   "cell_type": "markdown",
   "metadata": {},
   "source": [
    "## Zadanie 2 - Faktoryzacja LU\n",
    "Napisz i przetestuj funkcję dokonującą faktoryzacji A = LU macierzy A (bez poszuki-  \n",
    "wania elementu wiodącego). Sprawdź poprawność wyniku obliczając ∥A −LU∥. Zadbaj  \n",
    "o to żeby implementacja była in-situ. Elementy macierzy L to współczynniki mnożenia  \n",
    "umożliwiające wyzerowanie odpowiedniego współczynnika macierzy A w trakcie procesu  \n",
    "eliminacji."
   ]
  },
  {
   "cell_type": "code",
   "execution_count": 4,
   "metadata": {},
   "outputs": [],
   "source": [
    "def lu_factor(matrix, vector):\n",
    "    n = len(matrix)\n",
    "    for i in range(n):\n",
    "        for j in range(i + 1, n):\n",
    "            matrix[j, i] /= matrix[i, i]\n",
    "            for k in range(i + 1, n):\n",
    "                matrix[j, k] -= matrix[j, i] * matrix[i, k]\n",
    "    for i in range(1, n):\n",
    "        for j in range(i):\n",
    "            vector[i] -= matrix[i, j] * vector[j]\n",
    "    for i in range(n - 1, -1, -1):\n",
    "        for j in range(i + 1, n):\n",
    "            vector[i] -= matrix[i, j] * vector[j]\n",
    "        vector[i] /= matrix[i, i]\n",
    "    return vector"
   ]
  },
  {
   "cell_type": "code",
   "execution_count": 5,
   "metadata": {},
   "outputs": [],
   "source": [
    "def lu_factorization(A):\n",
    "    n = len(A)\n",
    "    for i in range(n):\n",
    "        for j in range(i+1, n):\n",
    "            A[j, i] = A[j, i] / A[i, i]\n",
    "            for k in range(i+1, n):\n",
    "                A[j, k] = A[j, k] - A[j, i] * A[i, k]\n",
    "    L = np.tril(A, -1) + np.eye(n)\n",
    "    U = np.triu(A)\n",
    "    return L, U"
   ]
  },
  {
   "cell_type": "code",
   "execution_count": 6,
   "metadata": {},
   "outputs": [
    {
     "name": "stdout",
     "output_type": "stream",
     "text": [
      "Test [1]:  N = 21\n",
      "||A - LU|| = 1.6941131719852225e-07\n",
      "\n",
      "Test [2]:  N = 37\n",
      "||A - LU|| = 1.2772744926658182e-05\n",
      "\n",
      "Test [3]:  N = 42\n",
      "||A - LU|| = 6.888350683176592e-06\n",
      "\n",
      "Test [4]:  N = 69\n",
      "||A - LU|| = 4.894355748398184e-06\n",
      "\n"
     ]
    }
   ],
   "source": [
    "test_spec = [(21, 1), (37, 1), (42, 1), (69, 1)]\n",
    "low = -10**7\n",
    "hight = -low\n",
    "\n",
    "i = 1\n",
    "for size, tests in test_spec:\n",
    "    for _ in range(tests):\n",
    "        print(f\"Test [{i}]:  N = {size}\")\n",
    "        matrix = np.random.uniform(low, hight, size=(size, size))\n",
    "        A = matrix.copy()\n",
    "\n",
    "        l, u = lu_factorization(matrix)\n",
    "        lu = np.matmul(l, u)\n",
    "\n",
    "        print(\"||A - LU|| =\", np.linalg.norm(\n",
    "            np.add(A, -lu)\n",
    "        ))\n",
    "        print()\n",
    "        i += 1"
   ]
  },
  {
   "cell_type": "markdown",
   "metadata": {},
   "source": [
    "## Zadanie 3 - Analiza obwodu elektrycznego\n",
    "Napisz program, który:  \n",
    "a) Wczytuje z pliku listę krawędzi grafu nieskierowanego ważonego opisującego ob-  \n",
    "wód elektryczny. Wagi krawędzi określają opór fragmentu obwodu między dwoma  \n",
    "węzłami. Wierzchołki grafu identyfikowane są przez liczby naturalne.  \n",
    "b) Wczytuje dodatkowo trójkę liczb (s, t, E), przy czym para (s, t) wskazuje mię-  \n",
    "dzy którymi węzłami sieci przyłożono siłę elektromotoryczną E. Opór wewnętrzny  \n",
    "SEM można zaniedbać.  \n",
    "c) Wykorzystując prawa Kirchhoffa (albo metodę potencjałów węzłowych) znajduje  \n",
    "natężenia prądu w każdej części obwodu i przedstawia je na rysunku w postaci  \n",
    "grafu ważonego z etykietami (wizualizacja grafu wraz z kolorowymi krawędziami  \n",
    "pokazującymi wartość natężenia prądu oraz jego kierunek)  \n",
    "d) Przedstaw (wizualizacja + automatyczne sprawdzenie poprawności wyników) dzia-  \n",
    "łanie programu dla grafów spójnych mających od 15 do 200 wierzchołków. Rozważ  \n",
    "następujące typy grafów:  \n",
    "– Spójny graf losowy (Erd ̋os-R ́enyi)  \n",
    "– Graf 3-regularny (kubiczny)  \n",
    "– Graf złożony z dwóch grafów losowych połaczonych mostkiem  \n",
    "– Graf siatka 2D  \n",
    "– Graf typu small-world  \n",
    "e) Skomentuj wybrane rozwiązanie - prawa Kirchoffa I, II vs. metoda potencjałów  \n",
    "węzłowych. W przypadku korzystania z praw Kirchoffa - w jaki sposób możemy  \n",
    "rozwiązać nadokreślony układ równań. Opisz najważniejsze aspekty swojego roz-  \n",
    "wiązania (kierunek prądu, weryfikacja poprawności rozwiązania, sposób wyznacza-  \n",
    "nia cykli prostych).  "
   ]
  },
  {
   "cell_type": "code",
   "execution_count": 7,
   "metadata": {},
   "outputs": [],
   "source": [
    "import matplotlib.pyplot as plt\n",
    "import networkx as nx\n",
    "import numpy as np"
   ]
  },
  {
   "cell_type": "markdown",
   "metadata": {},
   "source": [
    "- Funkcja weryfikująca zachodzenie praw Kirchoffa w obliczonym obwodzie"
   ]
  },
  {
   "cell_type": "code",
   "execution_count": 8,
   "metadata": {},
   "outputs": [],
   "source": [
    "def verify_kirchoff(G, s, t, E, I_max, cycles):\n",
    "    I_eps = 1e-8\n",
    "    U_eps = 1e-8\n",
    "\n",
    "    # Weryfikujemy pierwsze prawo Kirchhoffa\n",
    "    for x in G.nodes():\n",
    "        I = 0\n",
    "        for e in G.in_edges(x):\n",
    "            I += G.edges[e]['I']\n",
    "        for e in G.out_edges(x):\n",
    "            I -= G.edges[e]['I']\n",
    "        if I > I_eps * I_max:\n",
    "            raise Exception(\"Pierwsze prawo Kirchhoffa nie jest spełnione\")\n",
    "    \n",
    "    # Weryfikujemy drugie prawo Kirchhoffa\n",
    "    for i, cycle in enumerate(cycles):\n",
    "        U = 0\n",
    "        for pair in zip(cycle, cycle[1:] + [cycle[0]]):\n",
    "            if pair == (s, t):\n",
    "                U += E\n",
    "            elif pair == (t, s):\n",
    "                U -= E\n",
    "            else:\n",
    "                (u, v) = pair\n",
    "                if (u, v) in G.edges():\n",
    "                    U -= G.edges[u, v]['R'] * G.edges[u, v]['I']\n",
    "                else: # (v, u) in G.edges()\n",
    "                    U += G.edges[v, u]['R'] * G.edges[v, u]['I']\n",
    "        if U > U_eps * E:\n",
    "            raise Exception(\"Drugie prawo Kirchhoffa nie jest spełnione\")\n",
    "    \n",
    "    return True"
   ]
  },
  {
   "cell_type": "markdown",
   "metadata": {},
   "source": [
    "- Funkcja odpowiadająca za wizualizację układu"
   ]
  },
  {
   "cell_type": "code",
   "execution_count": 9,
   "metadata": {},
   "outputs": [],
   "source": [
    "def draw_circut(G, I_max):\n",
    "    I_eps = 1e-8\n",
    "    U_eps = 1e-8\n",
    "\n",
    "    pos = nx.spring_layout(G)\n",
    "\n",
    "    nx.draw_networkx_nodes(G, pos, node_color='black', node_size=500)\n",
    "\n",
    "    nx.draw_networkx_labels(G, pos, font_color='white', font_size=10, font_weight='bold')\n",
    "\n",
    "    colors = currents = [I for _, _, I in G.edges(data='I')]\n",
    "    widths = [2*I/I_max + 1 for I in currents]\n",
    "    nx.draw_networkx_edges(G, pos, width=widths, edge_color=colors, edge_cmap=plt.cm.Wistia, edge_vmin=-I_max/10, edge_vmax=I_max, arrowsize=30, node_size=500)\n",
    "\n",
    "    edge_labels = {e: '%.3g A' % (i) if i > I_eps * I_max else '0' for e, i in nx.get_edge_attributes(G, 'I').items()}\n",
    "    nx.draw_networkx_edge_labels(G, pos, edge_labels=edge_labels, font_size=10)\n",
    "\n",
    "    plt.axis('off')\n",
    "    plt.subplots_adjust(left=0, right=1, top=1, bottom=0)\n",
    "    plt.show()"
   ]
  },
  {
   "cell_type": "markdown",
   "metadata": {},
   "source": [
    "- Główna funkcja zadania wyliczająca prądy płynące w układzie\n",
    "  - G - graf skierowany, s oraz t - wierzchołki przyłożenia siły elektromotorycznej, E - siła elektromotoryczna\n",
    "  - wykorzystuje funkcje z biblioteki \"networkx\" do znalezienia cykli prostych w grafie\n",
    "  - korzystając z praw Kirchoffa tworzymy układ równań i rozwiązuje go funkcją z Zadania 1\n",
    "  - do grafu zapisuję prądy płynące między wierzchołkami i w razie konieczności odwracam krawędzie\n"
   ]
  },
  {
   "cell_type": "code",
   "execution_count": 10,
   "metadata": {},
   "outputs": [],
   "source": [
    "def find_intencities(G, s, t, E):\n",
    "    if s == t:\n",
    "        raise ValueError(\"S musi być różne od T\")\n",
    "    \n",
    "    # Przykładamy siłę elektromotoryczną do wierzchołka s i tłumimy ją w wierzchołku t\n",
    "    if G.has_edge(s, t) or G.has_edge(t, s): \n",
    "        if G.has_edge(s, t):\n",
    "            G[s][t]['R'] = 0\n",
    "        elif G.has_edge(t, s):\n",
    "            G[t][s]['R'] = 0\n",
    "    else:\n",
    "        G.add_edge(s, t, R=0)\n",
    "\n",
    "    # Tworzymy macierz do rozwiązania układu równań\n",
    "    e = G.number_of_edges()\n",
    "    M = np.zeros((e, e))\n",
    "    V = np.zeros(e)\n",
    "    edgelist = list(G.edges())\n",
    "\n",
    "    # Znajdujemy wszystkie cykle w grafie\n",
    "    cycles = nx.cycle_basis(G.to_undirected())\n",
    "\n",
    "    # Korzystając z pierwszego prawa Kirchoffa układamy v-1 równań\n",
    "    for i, x in enumerate(G.nodes()):\n",
    "        if len(cycles)+i == len(edgelist):\n",
    "            break\n",
    "        for (u, x) in G.in_edges(x):\n",
    "            j = edgelist.index((u, x))\n",
    "            M[len(cycles)+i,j] = 1\n",
    "        for (x, v) in G.out_edges(x):\n",
    "            j = edgelist.index((x, v))\n",
    "            M[len(cycles)+i,j] = -1\n",
    "\n",
    "    # Korzystając z drugiego prawa Kirchoffa układamy e - (v-1) równań\n",
    "    for i, cycle in enumerate(cycles):\n",
    "        for pair in zip(cycle, cycle[1:] + [cycle[0]]):\n",
    "            if pair == (s, t):\n",
    "                V[i] = E\n",
    "            elif pair == (t, s):\n",
    "                V[i] = -E\n",
    "            else:\n",
    "                (u, v) = pair\n",
    "                if (u, v) in edgelist:\n",
    "                    j = edgelist.index((u, v))\n",
    "                    M[i][j] = G[u][v]['R']\n",
    "                else:\n",
    "                    j = edgelist.index((v, u))\n",
    "                    M[i][j] = -G[v][u]['R']\n",
    "\n",
    "    # Rozwiązujemy układ równań korzystając z metody eliminacji Gaussa\n",
    "    I = gauss_jordan_elimination_with_partial_pivoting(M, V)\n",
    "\n",
    "    # Dodajemy znalezione prądy do grafu\n",
    "    for i, (u, v) in enumerate(G.copy().edges()):\n",
    "        if I[i] < 0:\n",
    "            # Odwracamy kierunek prądu\n",
    "            R = G.edges[u, v]['R']\n",
    "            G.remove_edge(u, v)\n",
    "            G.add_edge(v, u, R=R)\n",
    "            (u, v), I[i] = (v, u), -I[i]\n",
    "        G.edges[u, v]['I'] = I[i]\n",
    "\n",
    "    return G, s, t, E, I, cycles"
   ]
  },
  {
   "cell_type": "markdown",
   "metadata": {},
   "source": [
    "- Funkcja do wczytywania danych z pliku i prezentująca rozwiązanie"
   ]
  },
  {
   "cell_type": "code",
   "execution_count": 11,
   "metadata": {},
   "outputs": [],
   "source": [
    "def read_circuit_and_solve(filename):\n",
    "    G = nx.DiGraph()\n",
    "\n",
    "    with open(filename, 'r') as file:\n",
    "        n = int(file.readline())\n",
    "        for _ in range(n):\n",
    "            u, v, R = map(int, file.readline().split())\n",
    "            G.add_edge(u, v, R=R)\n",
    "        s, t, E = map(int, file.readline().split())\n",
    "\n",
    "    G, s, t, E, I, cycles = find_intencities(G, s, t, E)\n",
    "    if verify_kirchoff(G, s, t, E, max(I), cycles): \n",
    "        draw_circut(G, max(I))"
   ]
  },
  {
   "cell_type": "code",
   "execution_count": 12,
   "metadata": {},
   "outputs": [
    {
     "data": {
      "image/png": "[encoded data removed]",
      "text/plain": [
       "<Figure size 640x480 with 1 Axes>"
      ]
     },
     "metadata": {},
     "output_type": "display_data"
    }
   ],
   "source": [
    "read_circuit_and_solve(\"circuit.txt\")"
   ]
  },
  {
   "cell_type": "markdown",
   "metadata": {},
   "source": [
    "- Funkcje generujące grafy z wykorzystaniem biblioteki \"networkx\""
   ]
  },
  {
   "cell_type": "code",
   "execution_count": 13,
   "metadata": {},
   "outputs": [],
   "source": [
    "def randomize_resistance(G):\n",
    "    for e in G.edges():\n",
    "        G[e[0]][e[1]]['weight']=np.random.random()\n",
    "\n",
    "def random_graph(n):\n",
    "    G=nx.gnp_random_graph(n,np.random.randint(n,n*(n-1)//2))\n",
    "    randomize_resistance(G)\n",
    "    edges = list(G.edges)\n",
    "    GG = nx.DiGraph()\n",
    "    for u, v in edges:\n",
    "        GG.add_edge(u, v, R=G[u][v]['weight'])\n",
    "    return GG\n",
    "\n",
    "def cubic_graph(n):\n",
    "    G=nx.random_regular_graph(3,n)\n",
    "    randomize_resistance(G)\n",
    "    edges = list(G.edges)\n",
    "    GG = nx.DiGraph()\n",
    "    for u, v in edges:\n",
    "        GG.add_edge(u, v, R=G[u][v]['weight'])\n",
    "    return GG\n",
    "\n",
    "def double_random_graph(n):\n",
    "    A = random_graph(n//2)\n",
    "    B = random_graph(n//2)\n",
    "    x=len(A.nodes)\n",
    "    for edge in B.edges:\n",
    "        A.add_edge(edge[0]+x,edge[1]+x)\n",
    "    A.add_edge(0,x)\n",
    "    randomize_resistance(A)\n",
    "    edges = list(A.edges)\n",
    "    GG = nx.DiGraph()\n",
    "    for u, v in edges:\n",
    "        GG.add_edge(u, v, R=A[u][v]['weight'])\n",
    "    return GG\n",
    "\n",
    "def grid_graph(n):\n",
    "    G = nx.grid_graph(dim=[int(np.sqrt(n)),int(np.sqrt(n))+1], periodic=False)\n",
    "    mapping = dict(zip(G, range(int(np.sqrt(n))*(int(np.sqrt(n))+1))))\n",
    "    G = nx.relabel_nodes(G, mapping)\n",
    "    randomize_resistance(G)\n",
    "    edges = list(G.edges)\n",
    "    GG = nx.DiGraph()\n",
    "    for u, v in edges:\n",
    "        GG.add_edge(u, v, R=G[u][v]['weight'])\n",
    "    return GG\n",
    "\n",
    "def small_world_graph(n):\n",
    "    G = nx.watts_strogatz_graph(n, 4, 0.2)\n",
    "    randomize_resistance(G)\n",
    "    edges = list(G.edges)\n",
    "    GG = nx.DiGraph()\n",
    "    for u, v in edges:\n",
    "        GG.add_edge(u, v, R=G[u][v]['weight'])\n",
    "    return GG"
   ]
  },
  {
   "cell_type": "markdown",
   "metadata": {},
   "source": [
    "- Automatyczne testowanie funkcji na różnych grafach"
   ]
  },
  {
   "cell_type": "code",
   "execution_count": 14,
   "metadata": {},
   "outputs": [
    {
     "name": "stdout",
     "output_type": "stream",
     "text": [
      "Test 0 passed\n",
      "Time elapsed: 3.61s\n",
      "Test 1 passed\n",
      "Time elapsed: 0.18s\n",
      "Test 2 passed\n",
      "Time elapsed: 19.38s\n",
      "Test 3 passed\n",
      "Time elapsed: 0.29s\n",
      "Test 4 passed\n",
      "Time elapsed: 0.36s\n"
     ]
    }
   ],
   "source": [
    "graphs = [random_graph(50), cubic_graph(200), double_random_graph(100), grid_graph(200), small_world_graph(200)]\n",
    "\n",
    "i = 0\n",
    "for G in graphs:\n",
    "    start = time.time()\n",
    "    G, s, t, E, I, cycles = find_intencities(G, 0, 1, 10)\n",
    "    if verify_kirchoff(G, s, t, E, max(I), cycles):\n",
    "        print(\"Test\", i, \"passed\")\n",
    "    else :\n",
    "        print(\"Test\", i, \"failed\")\n",
    "    end = time.time()\n",
    "    print(f\"Time elapsed: {end-start:.2f}s\")\n",
    "    i += 1"
   ]
  }
 ],
 "metadata": {
  "kernelspec": {
   "display_name": "Python 3",
   "language": "python",
   "name": "python3"
  },
  "language_info": {
   "codemirror_mode": {
    "name": "ipython",
    "version": 3
   },
   "file_extension": ".py",
   "mimetype": "text/x-python",
   "name": "python",
   "nbconvert_exporter": "python",
   "pygments_lexer": "ipython3",
   "version": "3.11.5"
  }
 },
 "nbformat": 4,
 "nbformat_minor": 2
}
