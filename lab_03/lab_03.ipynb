{
 "cells": [
  {
   "cell_type": "code",
   "execution_count": 94,
   "metadata": {},
   "outputs": [],
   "source": [
    "import math\n",
    "from math import pi\n",
    "import numpy as np"
   ]
  },
  {
   "cell_type": "code",
   "execution_count": 95,
   "metadata": {},
   "outputs": [],
   "source": [
    "f1 = lambda x: math.cos(x) * math.cosh(x) - 1\n",
    "df1 = lambda x: math.cos(x) * math.sinh(x) - math.cosh(x) * math.sin(x)\n",
    "b1 = (3/2 * pi, 2*pi)\n",
    "\n",
    "f2 = lambda x: 1/x - math.tan(x)\n",
    "df2 = lambda x: -(1 / math.cos(x))**2 - 1 / x**2\n",
    "b2 = (0, pi/2)\n",
    "\n",
    "f3 = lambda x: 2**(-x) + math.e**x + 2 * math.cos(x) - 6\n",
    "df3 = lambda x: -2 * math.sin(x) + math.e**x - math.log(2) / 2**x\n",
    "b3 = (1, 3)"
   ]
  },
  {
   "cell_type": "markdown",
   "metadata": {},
   "source": [
    "Napisz funkcję realizującą metodę bisekcji dla danej funkcji f w oparciu o arytmetykę o  \n",
    "zmiennej precyzji. Funkcja przyjmuje następujące argumenty:  \n",
    "•Minimalną precyzję obliczeń (liczba cyfr znaczących)  \n",
    "•Krańce przedziału  \n",
    "•Błąd bezwzględny obliczeń  \n",
    "Funkcja ma zwracać wyznaczone miejsce zerowe i liczbę iteracji potrzebną do uzyskania  \n",
    "określonej dokładności. Przetestuj działanie metody dla funkcji podanych na początku  \n",
    "instrukcji. Jaka liczba iteracji jest potrzebna do uzyskania bezwzględnej dokładności  \n",
    "rzędu: 10^−7, 10^−15, 10^−33? W jaki sposób możemy obliczyć k pierwszych dodatnich  \n",
    "pierwiastków funkcji f1(x)?  "
   ]
  },
  {
   "cell_type": "code",
   "execution_count": 96,
   "metadata": {},
   "outputs": [],
   "source": [
    "def bisection(function, bounds, eps=1e-7, delta=1e-7, max_iter=1000):\n",
    "    a, b = bounds\n",
    "    a += eps\n",
    "    b -= eps\n",
    "    if np.sign(function(a)) == np.sign(function(b)):\n",
    "        return None, 0\n",
    "    iterations = 0\n",
    "    while abs(b - a) > eps and iterations < max_iter:\n",
    "        c = a + (b-a)/ 2\n",
    "        if abs(function(c)) < delta:\n",
    "            return c, iterations\n",
    "        if np.sign(function(a)) != np.sign(function(c)):\n",
    "            b = c\n",
    "        else:\n",
    "            a = c\n",
    "        iterations += 1\n",
    "    return (a + (b-a)/ 2, iterations)"
   ]
  },
  {
   "cell_type": "code",
   "execution_count": 97,
   "metadata": {},
   "outputs": [
    {
     "name": "stdout",
     "output_type": "stream",
     "text": [
      "Bisection:\n",
      "f1: x0 =  4.730040744862704 , iterations =  51 , eps =  1e-15 , delta =  1e-15\n",
      "f2: x0 =  0.86033358901938 , iterations =  49 , eps =  1e-15 , delta =  1e-15\n",
      "f3: x0 =  1.829383601933849 , iterations =  51 , eps =  1e-15 , delta =  1e-15\n"
     ]
    }
   ],
   "source": [
    "print(\"Bisection:\")\n",
    "x0 , it = bisection(f1, b1, 1e-15, 1e-15)\n",
    "print(\n",
    "    \"f1: x0 = \", x0, \", iterations = \", it, \", eps = \", 1e-15, \", delta = \", 1e-15\n",
    ")\n",
    "x0 , it = bisection(f2, b2, 1e-15, 1e-15)\n",
    "print(\n",
    "    \"f2: x0 = \", x0, \", iterations = \", it, \", eps = \", 1e-15, \", delta = \", 1e-15\n",
    ")\n",
    "x0 , it = bisection(f3, b3, 1e-15, 1e-15)\n",
    "print(\n",
    "    \"f3: x0 = \", x0, \", iterations = \", it, \", eps = \", 1e-15, \", delta = \", 1e-15\n",
    ")"
   ]
  },
  {
   "cell_type": "markdown",
   "metadata": {},
   "source": [
    "Napisz funkcję realizującą metodę Newtona w oparciu o arytmetykę o zmiennej precyzji.  \n",
    "Funkcja ma wykorzystywać dwa kryteria stopu:  \n",
    "•maksymalną liczbę iteracji  \n",
    "•moduł różnicy kolejnych przybliżeń mniejszy od danej wartości ε  \n",
    "Oprócz przybliżonej wartości pierwiastka funkcja ma zwrócić liczbę iteracji potrzebną  \n",
    "do uzyskania określonej dokładności ε. Przetestuj działanie metody dla funkcji podanych  \n",
    "na początku instrukcji (dodatkowo dostępne pochodne tych funkcji). Porównaj zbieżność  \n",
    "metody ze zbieżnością uzyskaną dla metody bisekcji.  "
   ]
  },
  {
   "cell_type": "code",
   "execution_count": 98,
   "metadata": {},
   "outputs": [],
   "source": [
    "def newton(function, derivative, bounds, eps=1e-7, max_iterations=1000):\n",
    "    a, b = bounds\n",
    "    a += eps\n",
    "    b -= eps\n",
    "    if np.sign(function(a)) == np.sign(function(b)):\n",
    "        return None, 0\n",
    "    iterations = 0\n",
    "    x0 = b\n",
    "    while iterations < max_iterations:\n",
    "        x0 -= function(x0) / derivative(x0)\n",
    "        if abs(function(x0)) < eps:\n",
    "            return x0, iterations\n",
    "        iterations += 1\n",
    "    return x0, iterations\n",
    "    "
   ]
  },
  {
   "cell_type": "code",
   "execution_count": 99,
   "metadata": {},
   "outputs": [
    {
     "name": "stdout",
     "output_type": "stream",
     "text": [
      "Newton:\n",
      "f1: x0 =  4.730040744862704 , iterations =  1000 , eps =  1e-15\n",
      "f2: x0 =  0.8603335890193797 , iterations =  53 , eps =  1e-15\n",
      "f3: x0 =  1.829383601933849 , iterations =  6 , eps =  1e-15\n"
     ]
    }
   ],
   "source": [
    "print(\"Newton:\")\n",
    "x0 , it = newton(f1, df1, b1, 1e-15)\n",
    "print(\n",
    "    \"f1: x0 = \", x0, \", iterations = \", it, \", eps = \", 1e-15\n",
    ")\n",
    "x0 , it = newton(f2, df2, b2, 1e-15)\n",
    "print(\n",
    "    \"f2: x0 = \", x0, \", iterations = \", it, \", eps = \", 1e-15\n",
    ")\n",
    "x0 , it = newton(f3, df3, b3, 1e-15)\n",
    "print(\n",
    "    \"f3: x0 = \", x0, \", iterations = \", it, \", eps = \", 1e-15\n",
    ")"
   ]
  },
  {
   "cell_type": "markdown",
   "metadata": {},
   "source": [
    "Napisz funkcję realizującą metodę siecznych w oparciu o arytmetykę o zmiennej precyzji.  \n",
    "Funkcja powinna stosować te same kryteria stopu co funkcja realizująca metodę Newto-  \n",
    "na. Przetestuj działanie metody dla funkcji podanych na początku instrukcji. Porównaj  \n",
    "zbieżność metody ze zbieżnością uzyskaną dla metody bisekcji oraz metody Newtona.  "
   ]
  },
  {
   "cell_type": "code",
   "execution_count": 100,
   "metadata": {},
   "outputs": [],
   "source": [
    "def secant(function, bounds, eps=1e-7, max_iterations=1000):\n",
    "    a, b = bounds\n",
    "    a += eps\n",
    "    b -= eps\n",
    "    if np.sign(function(a)) == np.sign(function(b)):\n",
    "        return None, 0\n",
    "    iterations = 0\n",
    "    x0 = a\n",
    "    x1 = b\n",
    "    while iterations < max_iterations:\n",
    "        x2 = x1 - function(x1) * (x1 - x0) / (function(x1) - function(x0) + eps)\n",
    "        if abs(function(x2)) < eps:\n",
    "            return x2, iterations\n",
    "        x0 = x1\n",
    "        x1 = x2\n",
    "        iterations += 1\n",
    "    return x2, iterations"
   ]
  },
  {
   "cell_type": "code",
   "execution_count": 101,
   "metadata": {},
   "outputs": [
    {
     "name": "stdout",
     "output_type": "stream",
     "text": [
      "Secant:\n",
      "f1: x0 =  4.730040744862704 , iterations =  1000 , eps =  1e-15\n",
      "f2: x0 =  0.8474122073626782 , iterations =  1000 , eps =  1e-15\n",
      "f3: x0 =  1.829383601933849 , iterations =  9 , eps =  1e-15\n"
     ]
    }
   ],
   "source": [
    "print(\"Secant:\")\n",
    "x0 , it = secant(f1, b1, 1e-15)\n",
    "print(\n",
    "    \"f1: x0 = \", x0, \", iterations = \", it, \", eps = \", 1e-15\n",
    ")\n",
    "x0 , it = secant(f2, b2, 1e-15)\n",
    "print(\n",
    "    \"f2: x0 = \", x0, \", iterations = \", it, \", eps = \", 1e-15\n",
    ")\n",
    "x0 , it = secant(f3, b3, 1e-15)\n",
    "print(\n",
    "    \"f3: x0 = \", x0, \", iterations = \", it, \", eps = \", 1e-15\n",
    ")"
   ]
  },
  {
   "cell_type": "markdown",
   "metadata": {},
   "source": [
    "Hybrydowa wersja  "
   ]
  },
  {
   "cell_type": "code",
   "execution_count": 106,
   "metadata": {},
   "outputs": [],
   "source": [
    "def hybrid(function, bounds, eps=1e-7):\n",
    "    start_eps = 1e-15\n",
    "    x0, it = bisection(function, bounds, start_eps, start_eps, 2)\n",
    "    print(x0, it)\n",
    "    x0_po, it_po = secant(function, ((x0 - start_eps)/2, (x0 + start_eps)/2), eps)\n",
    "    return x0_po, it + it_po"
   ]
  },
  {
   "cell_type": "code",
   "execution_count": 109,
   "metadata": {},
   "outputs": [],
   "source": [
    "def hybrid2(function, bounds, eps=1e-7, delta=1e-7, max_iter=1000):\n",
    "    a, b = bounds\n",
    "    a += eps\n",
    "    b -= eps\n",
    "    if np.sign(function(a)) == np.sign(function(b)):\n",
    "        return None, 0\n",
    "    iterations = 0\n",
    "    while abs(b - a) > eps and iterations < 3:\n",
    "        c = a + (b-a)/ 2\n",
    "        if abs(function(c)) < delta:\n",
    "            return c, iterations\n",
    "        if np.sign(function(a)) != np.sign(function(c)):\n",
    "            b = c\n",
    "        else:\n",
    "            a = c\n",
    "        iterations += 1\n",
    "    x0, it = secant(function, (a, b), eps)\n",
    "    return x0, it+3"
   ]
  },
  {
   "cell_type": "code",
   "execution_count": 110,
   "metadata": {},
   "outputs": [
    {
     "name": "stdout",
     "output_type": "stream",
     "text": [
      "Hybrid:\n",
      "f1: x0 =  4.730040744862704 , iterations =  1003 , eps =  1e-07\n",
      "f2: x0 =  0.8603335890193797 , iterations =  7 , eps =  1e-07\n",
      "f3: x0 =  1.829383601933849 , iterations =  8 , eps =  1e-07\n"
     ]
    }
   ],
   "source": [
    "print(\"Hybrid:\")\n",
    "x0 , it = hybrid2(f1, b1, 1e-50)\n",
    "print(\n",
    "    \"f1: x0 = \", x0, \", iterations = \", it, \", eps = \", 1e-7\n",
    ")\n",
    "x0 , it = hybrid2(f2, b2, 1e-50)\n",
    "print(\n",
    "    \"f2: x0 = \", x0, \", iterations = \", it, \", eps = \", 1e-7\n",
    ")\n",
    "x0 , it = hybrid2(f3, b3, 1e-50)\n",
    "print(\n",
    "    \"f3: x0 = \", x0, \", iterations = \", it, \", eps = \", 1e-7\n",
    ")"
   ]
  }
 ],
 "metadata": {
  "kernelspec": {
   "display_name": "Python 3",
   "language": "python",
   "name": "python3"
  },
  "language_info": {
   "name": "python",
   "version": "3.11.5"
  }
 },
 "nbformat": 4,
 "nbformat_minor": 2
}
